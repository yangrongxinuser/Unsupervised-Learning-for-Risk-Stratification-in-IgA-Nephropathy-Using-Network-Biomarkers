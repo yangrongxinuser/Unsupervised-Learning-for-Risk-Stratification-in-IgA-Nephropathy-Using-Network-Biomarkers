{
  "cells": [
    {
      "cell_type": "code",
      "execution_count": null,
      "metadata": {
        "id": "VEIEamN-cr0U"
      },
      "outputs": [],
      "source": [
        "pip install reval"
      ]
    },
    {
      "cell_type": "code",
      "execution_count": null,
      "metadata": {
        "id": "U_IP8omFcx45"
      },
      "outputs": [],
      "source": [
        "import pandas as pd\n",
        "import numpy as np\n",
        "import networkx as nx\n",
        "from scipy import __version__ as scipy_version\n",
        "import joblib\n",
        "from sklearn import __version__ as sklearn_version\n",
        "from umap import __version__ as umap_version\n",
        "import matplotlib as mpl"
      ]
    },
    {
      "cell_type": "code",
      "execution_count": null,
      "metadata": {
        "id": "3HDSM2QsRMEW"
      },
      "outputs": [],
      "source": [
        "def generate_graph2vec_embeddings_and_predict_clusters(input_file_path, reference_file_path, output_file_path):\n",
        "    df = pd.read_excel(input_file_path, index_col=0)\n",
        "    df_2 = pd.read_excel(reference_file_path, index_col=0)\n",
        "    reference_df = df_2\n",
        "    ssn_dict = {}\n",
        "    for sample_id, single_sample in df.iterrows():\n",
        "        reference_samples = reference_df\n",
        "        reference_pcc_matrix = reference_samples.corr()\n",
        "        perturbed_reference_samples = reference_samples._append(single_sample)\n",
        "        perturbed_pcc_matrix = perturbed_reference_samples.corr()\n",
        "        differential_pcc_matrix = perturbed_pcc_matrix - reference_pcc_matrix\n",
        "        significance_threshold = 0.05\n",
        "        ssn = differential_pcc_matrix[abs(differential_pcc_matrix) > significance_threshold]\n",
        "        ssn_dict[sample_id] = ssn\n",
        "    personalized_networks = {}\n",
        "    for patient_id, correlation_matrix in ssn_dict.items():\n",
        "        G = nx.Graph()\n",
        "        nodes = list(correlation_matrix.columns)\n",
        "        G.add_nodes_from(nodes)\n",
        "        for i in range(len(nodes)):\n",
        "            for j in range(i + 1, len(nodes)):\n",
        "                correlation = correlation_matrix.iloc[i, j]\n",
        "                if abs(correlation) > significance_threshold:\n",
        "                    G.add_edge(nodes[i], nodes[j], weight=correlation)\n",
        "        G = nx.convert_node_labels_to_integers(G, first_label=0, ordering='default')\n",
        "        personalized_networks[patient_id] = G\n",
        "    unarrival_graph2vec_embeddings = {}\n",
        "    for patient_id, patient_graph in personalized_networks.items():\n",
        "        G = patient_graph\n",
        "        max_subgraph = max(nx.connected_components(G), key=len)\n",
        "        max_subgraph = G.subgraph(max_subgraph)\n",
        "        num_nodes = len(max_subgraph.nodes)\n",
        "        num_edges = len(max_subgraph.edges)\n",
        "        average_clustering = nx.average_clustering(max_subgraph)\n",
        "        subgraph_diameter = nx.diameter(max_subgraph)\n",
        "        subgraph_feature_vector = [num_nodes, num_edges, average_clustering, subgraph_diameter]\n",
        "        num_nodes = len(G.nodes)\n",
        "        num_edges = len(G.edges)\n",
        "        num_connected_components = nx.number_connected_components(G)\n",
        "        feature_vector = [num_nodes, num_edges, num_connected_components]\n",
        "        feature_vector.extend(subgraph_feature_vector)\n",
        "        node_degrees = dict(G.degree())\n",
        "        degree_vector = [node_degrees.get(node, 0) for node in range(24)]\n",
        "        feature_vector.extend(degree_vector)\n",
        "        unarrival_graph2vec_embeddings[patient_id] = feature_vector\n",
        "    df_embeddings = pd.DataFrame.from_dict(unarrival_graph2vec_embeddings, orient='index')\n",
        "    df_embeddings.reset_index(inplace=True)\n",
        "    df_embeddings.columns = ['subject_key'] + [f'feature_{i}' for i in range(1, len(df_embeddings.columns))]\n",
        "    df_embeddings.to_excel(output_file_path, index=False)\n",
        "    umap = joblib.load('umap_model.pkl')\n",
        "    scaler = joblib.load('scaler_model.pkl')\n",
        "    imputer = joblib.load('imputer_model.pkl')\n",
        "    kmeans = joblib.load('kmeans_model.pkl')\n",
        "    X_new = df_embeddings.drop(columns=['subject_key'])\n",
        "    X_new_imputed = pd.DataFrame(imputer.transform(X_new), columns=X_new.columns, index=X_new.index)\n",
        "    X_new_scaled = pd.DataFrame(scaler.transform(X_new_imputed), columns=X_new.columns, index=X_new.index)\n",
        "    new_umap_results = pd.DataFrame(index=X_new.index)\n",
        "    for sample_index, sample_row in X_new_scaled.iterrows():\n",
        "        combined_data = pd.concat([X_new_scaled, pd.DataFrame(sample_row).transpose()], axis=0)\n",
        "        umap_result = umap.transform(combined_data)\n",
        "        new_sample_umap_result = pd.DataFrame(umap_result[-1:], columns=[\"UMAP1\", \"UMAP2\"], index=[sample_index])\n",
        "        cluster_labels_new = kmeans.predict(new_sample_umap_result[['UMAP1', 'UMAP2']])\n",
        "        label_mapping = {0: 2, 1: 3, 2: 1, 3: 4}\n",
        "        mapped_cluster_label = label_mapping.get(cluster_labels_new[0], cluster_labels_new[0])\n",
        "        new_umap_results.loc[sample_index, 'Cluster_Label'] = mapped_cluster_label\n",
        "    df = pd.read_excel(input_file_path)\n",
        "    new_umap_results['Name'] = df[['Name']]\n",
        "    new_umap_results[['Name', 'Cluster_Label']].to_excel(output_file_path, index=False)\n",
        "\n",
        "\n",
        "# Example usage:\n",
        "generate_graph2vec_embeddings_and_predict_clusters(\"/content/your_file.xlsx\", \"/content/reference_samples.xlsx\", \"/content/final_result.xlsx\")"
      ]
    }
  ],
  "metadata": {
    "colab": {
      "provenance": []
    },
    "kernelspec": {
      "display_name": "Python 3",
      "name": "python3"
    },
    "language_info": {
      "name": "python"
    }
  },
  "nbformat": 4,
  "nbformat_minor": 0
}
